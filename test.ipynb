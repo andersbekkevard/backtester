{
 "cells": [
  {
   "cell_type": "code",
   "execution_count": 3,
   "id": "e0250c73",
   "metadata": {},
   "outputs": [
    {
     "name": "stdout",
     "output_type": "stream",
     "text": [
      "Price           Close       High        Low       Open    Volume\n",
      "Ticker           MSFT       MSFT       MSFT       MSFT      MSFT\n",
      "Date                                                            \n",
      "2000-01-03  35.792297  36.425620  34.391312  36.041788  53228400\n",
      "2000-01-04  34.583241  35.965035  34.468091  34.871114  54119000\n",
      "2000-01-05  34.947891  35.734747  33.585288  34.122653  64059600\n",
      "2000-01-06  33.777180  34.967058  33.278199  34.448885  54976600\n",
      "2000-01-07  34.218601  34.468092  32.951956  33.354980  62013600\n",
      "...               ...        ...        ...        ...       ...\n",
      "2002-12-24  16.526257  16.652153  16.434137  16.440279  18386000\n",
      "2002-12-26  16.394222  16.793407  16.326667  16.590744  37228000\n",
      "2002-12-27  16.265253  16.581530  16.243759  16.360443  40891600\n",
      "2002-12-30  16.197701  16.348163  16.050309  16.277537  48019600\n",
      "2002-12-31  15.875284  16.271399  15.740175  16.194633  58208800\n",
      "\n",
      "[752 rows x 5 columns]\n",
      "Python exe: c:\\Users\\Anders\\miniconda3\\envs\\backtester\\python.exe\n",
      "yfinance loaded from: c:\\Users\\Anders\\miniconda3\\envs\\backtester\\lib\\site-packages\\yfinance\\__init__.py\n"
     ]
    }
   ],
   "source": [
    "import yfinance as yf\n",
    "\n",
    "msft = yf.download(\n",
    "    \"MSFT\",\n",
    "    start=\"2000-01-01\",\n",
    "    end=\"2003-01-01\",    # note: Yahoo treats ‘end’ as exclusive\n",
    "    threads=False,       # disable threading to avoid certain timeouts\n",
    "    progress=False       # suppress the progress bar\n",
    ")\n",
    "print(msft)\n",
    "\n",
    "import sys, yfinance as yf\n",
    "print(\"Python exe:\", sys.executable)\n",
    "print(\"yfinance loaded from:\", yf.__file__)\n",
    "\n"
   ]
  }
 ],
 "metadata": {
  "kernelspec": {
   "display_name": "backtester",
   "language": "python",
   "name": "python3"
  },
  "language_info": {
   "codemirror_mode": {
    "name": "ipython",
    "version": 3
   },
   "file_extension": ".py",
   "mimetype": "text/x-python",
   "name": "python",
   "nbconvert_exporter": "python",
   "pygments_lexer": "ipython3",
   "version": "3.10.16"
  }
 },
 "nbformat": 4,
 "nbformat_minor": 5
}
